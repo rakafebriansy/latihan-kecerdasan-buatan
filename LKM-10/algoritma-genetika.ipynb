{
 "cells": [
  {
   "cell_type": "markdown",
   "metadata": {},
   "source": [
    "# ALGORITMA GENETIKA"
   ]
  },
  {
   "cell_type": "markdown",
   "metadata": {},
   "source": [
    "1. Siapkan data sederhana untuk simulasi, misalnya optimasi jadwal atau masalah penjadwalan lainnya."
   ]
  },
  {
   "cell_type": "code",
   "execution_count": null,
   "metadata": {},
   "outputs": [],
   "source": [
    "import numpy as np\n",
    "import matplotlib.pyplot as plt\n",
    "# Contoh data sederhana\n",
    "NUM_INDIVIDU = 10\n",
    "data_sederhana = np.random.randint(0, 10, size=(NUM_INDIVIDU,))"
   ]
  },
  {
   "cell_type": "markdown",
   "metadata": {},
   "source": [
    "2. Tunjukkan implementasi fungsi fitness yang kelompok Anda kembangkan. Jelaskan bagaimana fungsi ini mengukur efektivitas solusi dan mengapa kelompok Anda memilih metode ini."
   ]
  },
  {
   "cell_type": "code",
   "execution_count": null,
   "metadata": {},
   "outputs": [],
   "source": [
    "def fitness(individu):\n",
    "    target_data = np.array([2, 2, 2, 2, 2, 2, 2, 2, 2, 2])\n",
    "    matching_elements = np.sum(individu == target_data)\n",
    "    return matching_elements"
   ]
  },
  {
   "cell_type": "markdown",
   "metadata": {},
   "source": [
    "3. Berikan contoh populasi awal yang Anda inisialisasi. Analisis bagaimana diversitas dalam populasi ini\n",
    "dapat mempengaruhi hasil optimasi."
   ]
  },
  {
   "cell_type": "code",
   "execution_count": null,
   "metadata": {},
   "outputs": [],
   "source": [
    "# Define Fitness Function\n",
    "def fitness(individu):\n",
    "    # Example: Fitness as the count of matching elements with target data\n",
    "    target_data = np.array([2, 2, 2, 2, 2, 2, 2, 2, 2, 2])\n",
    "    matching_elements = np.sum(individu == target_data)\n",
    "    return matching_elements\n",
    "\n",
    "# Initialize Population\n",
    "def initialize_population(population_size):\n",
    "    return np.random.randint(0, 5, size=(population_size, len(data_sederhana)))\n",
    "initial_population = initialize_population(NUM_INDIVIDU)\n",
    "\n",
    "# Output populasi awal\n",
    "print(\"Initial Population:\")\n",
    "print(initial_population)\n",
    "\n",
    "# Implementation of Selection\n",
    "def selection(population, fitness_scores):\n",
    "    # Select the top 50% of individuals based on fitness\n",
    "    selected_indices = np.argsort(fitness_scores)[-population.shape[0] // 2 :]\n",
    "    return population[selected_indices]\n",
    "# Implementation of Crossover\n",
    "def crossover(parent1, parent2):\n",
    "    # Simple one-point crossover\n",
    "    crossover_point = np.random.randint(1, len(parent1) - 1)\n",
    "    child = np.concatenate((parent1[:crossover_point], parent2[crossover_point:]))\n",
    "    return child\n",
    "# Implementation of Mutation\n",
    "def mutation(individu, mutation_rate=0.1):\n",
    "    # Randomly flip some bits based on mutation rate\n",
    "    mutated_genes = np.where(np.random.rand(len(individu)) < mutation_rate)\n",
    "    individu[mutated_genes] = np.random.randint(0, 10, size=len(mutated_genes))\n",
    "    return individu\n",
    "# Run Genetic Algorithm for Several Generations\n",
    "NUM_GENERATIONS = 100\n",
    "\n",
    "# Initialize population\n",
    "population = initialize_population(NUM_INDIVIDU)"
   ]
  },
  {
   "cell_type": "markdown",
   "metadata": {},
   "source": [
    "4. Jelaskan bagaimana Anda memilih individu terbaik dan dampaknya terhadap proses evolusi"
   ]
  },
  {
   "cell_type": "code",
   "execution_count": null,
   "metadata": {},
   "outputs": [],
   "source": [
    "# Store the best individual and its fitness for analysis\n",
    "best_individual = None\n",
    "best_fitness = float(\"-inf\")\n",
    "all_fitness = []\n",
    "\n",
    "for generation in range(NUM_GENERATIONS):\n",
    "    # Evaluate fitness\n",
    "    fitness_scores = np.apply_along_axis(fitness, axis=1, arr=population)\n",
    "\n",
    "    # Selection\n",
    "    selected_population = selection(population, fitness_scores)\n",
    "\n",
    "    # Crossover and Mutation\n",
    "    new_population = []\n",
    "    while len(new_population) < NUM_INDIVIDU:\n",
    "        parent1 = np.random.choice(selected_population.shape[0])\n",
    "        parent2 = np.random.choice(selected_population.shape[0])\n",
    "        child = crossover(selected_population[parent1], selected_population[parent2])\n",
    "        child = mutation(child)\n",
    "        new_population.append(child)\n",
    "\n",
    "    population = np.array(new_population)\n",
    "\n",
    "    # Update the best individual and its fitness\n",
    "    current_best_fitness = np.max(fitness_scores)\n",
    "    if current_best_fitness > best_fitness:\n",
    "        best_fitness = current_best_fitness\n",
    "        best_individual = population[np.argmax(fitness_scores)]\n",
    "\n",
    "    all_fitness.append(current_best_fitness)\n",
    "\n",
    "# Evaluate and Analyze Results\n",
    "print(\"Best Individual:\", best_individual)\n",
    "print(\"Best Fitness:\", best_fitness)\n",
    "\n",
    "# Plotting fitness over generations\n",
    "plt.plot(all_fitness)\n",
    "plt.title(\"Fitness Over Generations\")\n",
    "plt.xlabel(\"Generation\")\n",
    "plt.ylabel(\"Fitness\")\n",
    "plt.show()\n"
   ]
  },
  {
   "cell_type": "markdown",
   "metadata": {},
   "source": [
    "5. Analisis efektivitas metode ini dalam menciptakan solusi yang lebih baik."
   ]
  },
  {
   "cell_type": "markdown",
   "metadata": {},
   "source": [
    "```\n",
    "Metode yang kami gunakan fungsi fitness yang mengukur efektivitas solusi dengan cara menghitung jumlah elemen pada individu yang sama dengan target_data. Semakin banyak elemen yang sama maka semakin banyak nilai fitnessnya, metode ini bisa diterapkan untuk menilai sejauh mana suatu populasi atau individu dalam populasi menunjukkan kesamaan genetik dengan target yang diinginkan. Dalam proses pemilihan individu terbaik, dilakukan dengan menghitung 'fitness_scores' melalui panggilan fungsi fitness untuk setiap individu dalam populasi. Kemudian, nilai 'current_best_fitness' dihitung sebagai maksimum dari 'fitness_score'. Jika nilai tersebut melebihi 'best_fitness' yang telah disimpan sebelumnya, maka 'best_fitness' diperbarui, dan 'best_individual' ditetapkan sebagai individu dalam populasi yang memiliki nilai fitness tertinggi. Fitness individu meningkat seiring dengan jumlah kesamaan elemen yang lebih tinggi, dan algoritma genetika berusaha untuk mempertahankan dan meningkatkan kesamaan ini melalui proses evolusi.\n",
    "```"
   ]
  },
  {
   "cell_type": "markdown",
   "metadata": {},
   "source": [
    "6. Tampilkan contoh proses mutasi dalam algoritma Anda. Jelaskan bagaimana mutasi ini menambah variasi genetik dan pengaruhnya terhadap solusi akhir"
   ]
  },
  {
   "cell_type": "code",
   "execution_count": null,
   "metadata": {},
   "outputs": [],
   "source": [
    "import random\n",
    "\n",
    "def mutate(individual, mutation_rate):\n",
    "    mutated_individual = list(individual)\n",
    "\n",
    "    for i in range(len(mutated_individual)):\n",
    "        if random.random() < mutation_rate:\n",
    "            # Jika nilai acak kurang dari mutation_rate, maka mutasi terjadi\n",
    "            mutated_individual[i] = '1' if mutated_individual[i] == '0' else '0'\n",
    "\n",
    "    return ''.join(mutated_individual)\n",
    "\n",
    "# Contoh penggunaan\n",
    "individu_awal = \"01101001101101101100101100111000\"\n",
    "mutation_rate = 0.5  # Tingkat mutasi, bisa disesuaikan\n",
    "\n",
    "# Mutasi individu\n",
    "individu_mutasi = mutate(individu_awal, mutation_rate)\n",
    "\n",
    "print(\"Individu Awal:    \", individu_awal)\n",
    "print(\"Individu Mutasi:  \", individu_mutasi)"
   ]
  },
  {
   "cell_type": "markdown",
   "metadata": {},
   "source": [
    "7. Sajikan hasil akhir dari simulasi algoritma genetika kelompok Anda. Lakukan analisis mendalam mengenai hasil ini dan bagaimana mereka mencerminkan efektivitas algoritma kelompok Anda."
   ]
  },
  {
   "cell_type": "markdown",
   "metadata": {},
   "source": [
    "```\n",
    "Berdasarkan hasil simulasi algoritma genetika yang kelompok saya lakukan, diperoleh hasil : Tingkat mutasi yang tinggi (0,5) memberikan variasi genetik yang cukup signifikan. Hal ini dapat membantu algoritma menjelajahi berbagai solusi potensial, memperkaya keragaman genetik dalam populasi. Tingkat mutasi yang tinggi mencegah konvergensi terlalu cepat, yang merupakan tanda positif. Ini menunjukkan bahwa algoritma memiliki kepekaan terhadap risiko konvergensi prematur dan berusaha untuk memitigasinya melalui variasi genetik yang tinggi. Mutasi yang efektif dalam meningkatkan diversifikasi populasi sangat penting. Dengan menciptakan variasi yang signifikan, algoritma memiliki kemampuan untuk menjelajahi lebih luas ruang solusi, mencegah kehilangan keragaman genetik, dan meningkatkan peluang menemukan solusi yang lebih baik. Tingkat mutasi yang tinggi menciptakan keseimbangan yang baik antara eksplorasi dan eksploitasi. Algoritma tidak hanya mencoba berbagai solusi (eksplorasi) tetapi juga dapat mengoptimalkan solusi yang sudah ditemukan (eksploitasi), mendukung proses pencarian solusi yang efektif.\n",
    "```"
   ]
  },
  {
   "cell_type": "markdown",
   "metadata": {},
   "source": [
    "8. Bandingkan hasil sebelum dan sesudah menggunakan algoritma genetika. Analisis tingkat peningkatan yang terjadi dan bagaimana algoritma Anda berhasil mengoptimasi solusi"
   ]
  },
  {
   "cell_type": "markdown",
   "metadata": {},
   "source": [
    "```\n",
    "Perbandingan antara penggunaan dan ketiadaan algoritma genetika sering kali menunjukkan perbedaan signifikan dalam pencarian solusi untuk masalah optimasi. Tanpa algoritma genetika, pencarian solusi mungkin terbatas pada metode acak atau deterministik yang dapat memakan waktu lama, terutama dalam ruang pencarian yang besar atau kompleks. Dalam hal ini, algoritma genetika menyajikan keunggulan dengan mengadopsi pendekatan populasi yang memungkinkan eksplorasi solusi secara adaptif. Analisis terhadap penggunaan algoritma genetika sering melibatkan pengukuran waktu, kualitas solusi, dan efisiensi dalam ruang solusi yang kompleks. Peningkatan yang signifikan dapat diamati ketika algoritma genetika mampu menemukan solusi yang lebih baik atau mendekati solusi optimal dalam waktu yang lebih singkat dibandingkan dengan pendekatan tanpa algoritma genetika. Keberhasilan algoritma genetika dalam mengoptimasi solusi terletak pada kombinasi konsep seleksi alamiah, crossover, dan mutasi, yang memungkinkan eksplorasi yang lebih luas terhadap ruang solusi, menghindari minimum lokal, dan mendekati solusi yang lebih optimal untuk masalah-masalah optimasi yang kompleks.\n",
    "```"
   ]
  }
 ],
 "metadata": {
  "language_info": {
   "name": "python"
  }
 },
 "nbformat": 4,
 "nbformat_minor": 2
}
