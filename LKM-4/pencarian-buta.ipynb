{
 "cells": [
  {
   "cell_type": "markdown",
   "metadata": {},
   "source": [
    "1. Buatlah program untuk menemukan H dengan menggunakan teknik pencarian Breath-First\n",
    "Search."
   ]
  },
  {
   "cell_type": "code",
   "execution_count": null,
   "metadata": {},
   "outputs": [],
   "source": [
    "graph = {\n",
    "    'G': ['E', 'A'],\n",
    "    'E': ['B', 'G'],\n",
    "    'A': ['B', 'D', 'G'],\n",
    "    'B': ['F', 'E', 'A'],\n",
    "    'D': ['F', 'A'],\n",
    "    'F': ['B', 'C', 'D'],\n",
    "    'C': ['F', 'H'],\n",
    "    'H': ['C']\n",
    "}\n",
    "visited = []\n",
    "queue = []\n",
    "def bfs(visited, graph, node):\n",
    "    visited.append(node)\n",
    "    queue.append(node)\n",
    "    while queue:\n",
    "        m = queue.pop(0)\n",
    "        print (m, end = \" \")\n",
    "        for neighbour in graph[m]:\n",
    "            if neighbour not in visited:\n",
    "                visited.append(neighbour)\n",
    "                queue.append(neighbour)\n",
    "bfs(visited, graph, 'G')\n"
   ]
  },
  {
   "cell_type": "markdown",
   "metadata": {},
   "source": [
    "2. Buatlah program untuk menemukan H dengan menggunakan teknik pencarian Depth-First\n",
    "Search."
   ]
  },
  {
   "cell_type": "code",
   "execution_count": 1,
   "metadata": {},
   "outputs": [],
   "source": [
    "graph = {\n",
    "    'G': ['E', 'A'],\n",
    "    'E': ['B', 'G'],\n",
    "    'A': ['B', 'D', 'G'],\n",
    "    'B': ['F', 'E', 'A'],\n",
    "    'D': ['F', 'A'],\n",
    "    'F': ['B', 'C', 'D'],\n",
    "    'C': ['F', 'H'],\n",
    "    'H': ['C']\n",
    "}\n",
    "\n",
    "visited = set()\n",
    "def dfs(visited, graph, node):\n",
    "    if node not in visited:\n",
    "        print (node)\n",
    "        visited.add(node)\n",
    "        for neighbour in graph[node]:\n",
    "            dfs(visited, graph, neighbour)\n",
    "print(\"urutan node yang dikunjungi :\")\n",
    "dfs(visited, graph, 'G')"
   ]
  },
  {
   "cell_type": "markdown",
   "metadata": {},
   "source": [
    "3. Buatlah program untuk menemukan H dengan menggunakan teknik pencarian Depth-Limited\n",
    "Search (l=2)."
   ]
  },
  {
   "cell_type": "code",
   "execution_count": null,
   "metadata": {},
   "outputs": [],
   "source": [
    "def depth_limited_search(node, target, depth_limit):\n",
    "    if node == target:\n",
    "        return True\n",
    "    if depth_limit <= 0:\n",
    "        return False\n",
    "    if node not in graph:\n",
    "        return False\n",
    "    if depth_limited_search(graph[node][0], target, depth_limit - 1):\n",
    "        return True\n",
    "    if depth_limited_search(graph[node][1], target, depth_limit - 1):\n",
    "        return True\n",
    "    return False\n",
    "graph = {\n",
    "    \"G\": [\"E\", \"A\"],\n",
    "    \"E\": [\"B\", \"G\"],\n",
    "    \"A\": [\"B\", \"D\", \"G\"],\n",
    "    \"B\": [\"F\", \"E\", \"A\"],\n",
    "    \"D\": [\"F\", \"A\"],\n",
    "    \"F\": [\"B\", \"C\", \"D\"],\n",
    "    \"C\": [\"F\", \"H\"],\n",
    "    \"H\": [\"C\"],\n",
    "}\n",
    "start_node = \"G\"\n",
    "target_node = \"H\"\n",
    "depth_limit = 2\n",
    "result = depth_limited_search(start_node, target_node, depth_limit)\n",
    "if result:\n",
    "    print(f\"H ditemukan dari {start_node} dengan kedalaman\n",
    "{depth_limit}\")\n",
    "else:\n",
    "    print(f\"H tidak dapat ditemukan dari {start_node} dengan kedalaman {depth_limit}\")\n"
   ]
  }
 ],
 "metadata": {
  "kernelspec": {
   "display_name": "Python 3",
   "language": "python",
   "name": "python3"
  },
  "language_info": {
   "codemirror_mode": {
    "name": "ipython",
    "version": 3
   },
   "file_extension": ".py",
   "mimetype": "text/x-python",
   "name": "python",
   "nbconvert_exporter": "python",
   "pygments_lexer": "ipython3",
   "version": "3.12.2"
  }
 },
 "nbformat": 4,
 "nbformat_minor": 2
}
