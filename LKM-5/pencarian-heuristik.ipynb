{
 "cells": [
  {
   "cell_type": "markdown",
   "metadata": {},
   "source": [
    "# PENCARIAN HEURISTIK"
   ]
  },
  {
   "cell_type": "markdown",
   "metadata": {},
   "source": [
    "1. Buatlah program untuk menemukan d dengan menggunakan teknik pencarian A* Best First Search"
   ]
  },
  {
   "cell_type": "code",
   "execution_count": 3,
   "metadata": {},
   "outputs": [
    {
     "name": "stdout",
     "output_type": "stream",
     "text": [
      "Jalur terpendek: ['s', 'b', 'd']\n"
     ]
    },
    {
     "data": {
      "text/plain": [
       "['s', 'b', 'd']"
      ]
     },
     "execution_count": 3,
     "metadata": {},
     "output_type": "execute_result"
    }
   ],
   "source": [
    "from collections import deque\n",
    "class Graph:\n",
    "    def __init__(self, adjacency_list):\n",
    "        self.adjacency_list = adjacency_list\n",
    "    def get_neighbors(self, v):\n",
    "        return self.adjacency_list[v]\n",
    "    def h(self, n):\n",
    "        H = {\n",
    "        's' : 1,\n",
    "        'a' : 3,\n",
    "        'b' : 3,\n",
    "        'c' : 0,\n",
    "        'd' : 0\n",
    "        }\n",
    "        return H[n]\n",
    "    def a_star_algorithm(self, start_node, stop_node):\n",
    "        open_list = set([start_node])\n",
    "        closed_list = set([])\n",
    "        g = {}\n",
    "        g[start_node] = 0\n",
    "        parents = {}\n",
    "        parents[start_node] = start_node\n",
    "        while len(open_list) > 0:\n",
    "            n = None\n",
    "            for v in open_list:\n",
    "                if n == None or g[v] + self.h(v) < g[n] + self.h(n):\n",
    "                    n = v;\n",
    "                if n == None:\n",
    "                    print('Path does not exist!')\n",
    "                    return None\n",
    "                if n == stop_node:\n",
    "                    reconst_path = []\n",
    "                    while parents[n] != n:\n",
    "                        reconst_path.append(n)\n",
    "                        n = parents[n]\n",
    "                    reconst_path.append(start_node)\n",
    "                    reconst_path.reverse()\n",
    "                    print('Jalur terpendek: {}'.format(reconst_path))\n",
    "                    return reconst_path\n",
    "            for (m, weight) in self.get_neighbors(n):\n",
    "                if m not in open_list and m not in closed_list:\n",
    "                    open_list.add(m)\n",
    "                    parents[m] = n\n",
    "                    g[m] = g[n] + weight\n",
    "                else:\n",
    "                    if g[m] > g[n] + weight:\n",
    "                        g[m] = g[n] + weight\n",
    "                        parents[m] = n\n",
    "                        if m in closed_list:\n",
    "                            closed_list.remove(m)\n",
    "                            open_list.add(m)\n",
    "            open_list.remove(n)\n",
    "            closed_list.add(n)\n",
    "        print('Path does not exist!')\n",
    "        return None\n",
    "adjacency_list = {\n",
    "    's': [('a', 3), ('b', 2)],\n",
    "    'a': [('b', 3),('c', 1),('d', 3)],\n",
    "    'b': [('c', 5),('d', 3)],\n",
    "    'c': [('d', 2)],\n",
    "    'd': []\n",
    "}\n",
    "graph1 = Graph(adjacency_list)\n",
    "graph1.a_star_algorithm('s', 'd')\n"
   ]
  },
  {
   "cell_type": "code",
   "execution_count": null,
   "metadata": {},
   "outputs": [],
   "source": []
  }
 ],
 "metadata": {
  "kernelspec": {
   "display_name": "Python 3",
   "language": "python",
   "name": "python3"
  },
  "language_info": {
   "codemirror_mode": {
    "name": "ipython",
    "version": 3
   },
   "file_extension": ".py",
   "mimetype": "text/x-python",
   "name": "python",
   "nbconvert_exporter": "python",
   "pygments_lexer": "ipython3",
   "version": "3.12.2"
  }
 },
 "nbformat": 4,
 "nbformat_minor": 2
}
