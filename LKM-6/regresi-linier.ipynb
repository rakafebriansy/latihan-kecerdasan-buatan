{
 "cells": [
  {
   "cell_type": "markdown",
   "metadata": {},
   "source": [
    "# REGRESI LINIER"
   ]
  },
  {
   "cell_type": "markdown",
   "metadata": {},
   "source": [
    "1. Lakukan langkah praktikum seperti yang ada di Modul 6"
   ]
  },
  {
   "cell_type": "markdown",
   "metadata": {},
   "source": [
    "2. Tunjukkan hasil evaluasi model hasil praktikum kelompok Anda"
   ]
  },
  {
   "cell_type": "code",
   "execution_count": null,
   "metadata": {},
   "outputs": [],
   "source": [
    "import pandas,numpy\n",
    "from sklearn.model_selection import train_test_split\n",
    "from sklearn.tree import DecisionTreeClassifier\n",
    "from sklearn.metrics import classification_report\n",
    "from sklearn.preprocessing import LabelBinarizer\n",
    "\n",
    "data = pandas.read_csv(\"adult.csv\")\n",
    "\n",
    "X = numpy.array(data[\"capital.loss\"])\n",
    "y = numpy.array(data[\"sex\"]) #0 = Female, 1 = Male\n",
    "lb = LabelBinarizer()\n",
    "y = lb.fit_transform(y).flatten()\n",
    "X_train, X_test, y_train, y_test = train_test_split(X,y,test_size=0.3,random_state=1)\n",
    "model = DecisionTreeClassifier(max_depth=3, min_samples_leaf=5, random_state=1)\n",
    "model.fit(X_train.reshape(-1,1),y_train.reshape(-1,1))\n",
    "y_pred = model.predict(X_test.reshape(-1,1))\n",
    "print(classification_report(y_test.reshape(-1,1), y_pred))"
   ]
  },
  {
   "cell_type": "markdown",
   "metadata": {},
   "source": [
    "3. Lakukan proses yang sama menggunakan model klasifikasi K-Nearest Neighbors (KNN)"
   ]
  },
  {
   "cell_type": "code",
   "execution_count": null,
   "metadata": {},
   "outputs": [],
   "source": [
    "import pandas,numpy\n",
    "from sklearn.model_selection import train_test_split\n",
    "from sklearn.neighbors import KNeighborsClassifier\n",
    "from sklearn.metrics import classification_report\n",
    "from sklearn.preprocessing import LabelBinarizer\n",
    "data = pandas.read_csv(\"adult.csv\")\n",
    "X = numpy.array(data[\"capital.loss\"])\n",
    "y = numpy.array(data[\"sex\"]) #0 = Female, 1 = Male\n",
    "lb = LabelBinarizer()\n",
    "y = lb.fit_transform(y).flatten()\n",
    "X_train, X_test, y_train, y_test = train_test_split(X,y,test_size=0.3,random_state=1)\n",
    "model = KNeighborsClassifier(n_neighbors=3)\n",
    "model.fit(X_train.reshape(-1,1),y_train.reshape(-1,1))\n",
    "\n",
    "y_pred = model.predict(X_test.reshape(-1,1))\n",
    "print(classification_report(y_test.reshape(-1,1), y_pred))"
   ]
  },
  {
   "cell_type": "markdown",
   "metadata": {},
   "source": [
    "4. Lakukan proses yang sama menggunakan model klasifikasi Support Vector Machines (SVM)"
   ]
  },
  {
   "cell_type": "code",
   "execution_count": null,
   "metadata": {},
   "outputs": [],
   "source": [
    "import pandas,numpy\n",
    "from sklearn.model_selection import train_test_split\n",
    "from sklearn.svm import SVC\n",
    "from sklearn.metrics import classification_report\n",
    "from sklearn.preprocessing import LabelBinarizer\n",
    "\n",
    "data = pandas.read_csv(\"adult.csv\")\n",
    "\n",
    "X = numpy.array(data[\"capital.loss\"])\n",
    "y = numpy.array(data[\"sex\"]) #0 = Female, 1 = Male\n",
    "lb = LabelBinarizer()\n",
    "y = lb.fit_transform(y).flatten()\n",
    "X_train, X_test, y_train, y_test = train_test_split(X,y,test_size=0.3,random_state=1)\n",
    "model = SVC(kernel='poly', C=1.0, random_state=42)\n",
    "model.fit(X_train.reshape(-1,1),y_train.reshape(-1,1))\n",
    "\n",
    "y_pred = model.predict(X_test.reshape(-1,1))\n",
    "print(classification_report(y_test.reshape(-1,1), y_pred))"
   ]
  },
  {
   "cell_type": "markdown",
   "metadata": {},
   "source": [
    "5. Berdasarkan percobaan yang kelompok Anda lakukan jelaskan pentingnya membagi data menjadi data\n",
    "set pelatihan dan pengujian."
   ]
  },
  {
   "cell_type": "markdown",
   "metadata": {},
   "source": [
    "```\n",
    "- Pentingnya membagi data menjadi dataset pelatihan dan pengujian yaitu untuk menghindari data overfitting. Dimana overfitting sendiri merupakan kondisi model pembelajaran mesin terlalu cocok dengan data pelatihannya dan gagal untuk menyesuaikan data tambahan. Dengan dibaginya dataset akan memudahkan dalam proses evaluasi kinerja model berjalan dengan baik, dapat memonitor performa model secara teratur, dan menjaga keamanan data.\n",
    "- Pembagian data dapat mempengaruhi hasil dari model klasifikasi menyesuaikan dengan model klasifikasi yang dipakai. Pada LKM ini kelompok kami menggunakan model klasifikasi Decision Tree, KNN, dan SVM.\n",
    "```"
   ]
  },
  {
   "cell_type": "markdown",
   "metadata": {},
   "source": [
    "6. Berdasarkan percobaan yang kelompok Anda lakukan jelaskan yang dimaksud dengan overfitting dan\n",
    "bagaimana cara mencegahnya saat membangun model klasifikasi"
   ]
  },
  {
   "cell_type": "markdown",
   "metadata": {},
   "source": [
    "```\n",
    "- Overfitting adalah perilaku pembelajaran mesin yang tidak diinginkan yang terjadi ketika model pembelajaran mesin memberikan predis akurat untuk data pelatihan tetapi tidak untuk data baru.\n",
    "- Overfitting dapat mempengaruhi model klasifikasi sehingga performa model menjadi buruk karena terdapat data yang belum pernah dilihat sebelumnya.\n",
    "- Cara mencegah overfitting terdapat beberapa tahapan yaitu :\n",
    "    1. Pemilihan fitur yang lebih baik: Memilih fitur yang paling relevan dan mengabaikan fitur yang tidak penting dapat membantu mengurangi kompleksitas model.\n",
    "    2. Regularisasi: Menggunakan teknik seperti regularisasi L1 atau L2 untuk mengurangi kompleksitas model dan mencegah overfitting.\n",
    "    3. Penambahan data: Menambahkan lebih banyak data pelatihan dapat membantu model memahami variasi yang lebih besar dalam data.\n",
    "    4. Pemilihan model yang sesuai: Memilih model yang sesuai dengan permasalahan dan jumlah data yang tersedia juga penting untuk menghindari overfitting. \n",
    "    5. Cross-validation: Menggunakan validasi silang untuk memeriksa kinerja model pada data yang tidak terlihat sebelumnya dapat membantu mengidentifikasi apakah model mengalami overfitting.\n",
    "```"
   ]
  }
 ],
 "metadata": {
  "kernelspec": {
   "display_name": "Python 3",
   "language": "python",
   "name": "python3"
  },
  "language_info": {
   "codemirror_mode": {
    "name": "ipython",
    "version": 3
   },
   "file_extension": ".py",
   "mimetype": "text/x-python",
   "name": "python",
   "nbconvert_exporter": "python",
   "pygments_lexer": "ipython3",
   "version": "3.12.2"
  }
 },
 "nbformat": 4,
 "nbformat_minor": 2
}
