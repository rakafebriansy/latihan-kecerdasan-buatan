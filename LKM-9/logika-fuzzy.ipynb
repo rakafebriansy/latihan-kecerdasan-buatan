{
 "cells": [
  {
   "cell_type": "markdown",
   "metadata": {},
   "source": [
    "# LOGIKA FUZZY"
   ]
  },
  {
   "cell_type": "markdown",
   "metadata": {},
   "source": [
    "1. Tentukan variabei input dan output"
   ]
  },
  {
   "cell_type": "markdown",
   "metadata": {},
   "source": [
    "```\n",
    "Variabel input: Dari 0 hingga 140\n",
    "Variabel output: Dari 0 hingga 140\n",
    "```"
   ]
  },
  {
   "cell_type": "markdown",
   "metadata": {},
   "source": [
    "2. Tentukan himpunan fuzzy untuk masing-masing variabel input dan output"
   ]
  },
  {
   "cell_type": "markdown",
   "metadata": {},
   "source": [
    "```\n",
    "Himpunan fuzzy dari masing-masing variabel input dan output yaitu terdiri dari 3 kategori masing-masing yang diatur dengan fungsi Input bensin (pertalite, pertamax, dan pertamina dex) dan jarak (dekat, sedang, jauh).\n",
    "```"
   ]
  },
  {
   "cell_type": "markdown",
   "metadata": {},
   "source": [
    "3. Tentukan fungsi keanggotaan untuk masing-masing himpunan fuzzy input-output yang sudah ditentukan pada No.2."
   ]
  },
  {
   "cell_type": "markdown",
   "metadata": {},
   "source": [
    "```\n",
    "Fungsi keanggotaan dari variabel input yaitu\n",
    "- ‘pertalite’: memiliki nilai rendah pada bensin pertalite (0-70), nilainya naik pada rentang 0-70 dan\n",
    "turun pada rentang 70-140.\n",
    "- ‘pertamax’: nilai naik pada rentang 0-70, puncaknya ada di sekitar 70, dan turun pada rentang 70-140.\n",
    "- ‘pertamina dex’: nilai rendah pada rentang 70-140, nilainya naik pada rentang 70-140 dan tetap tinggi\n",
    "pada 140.\n",
    "Fungsi keanggotaan dari variabel input yaitu\n",
    "- ‘pertalite’: memiliki nilai rendah pada bensin pertalite (0-70), nilainya naik pada rentang 0-70 dan\n",
    "turun pada rentang 70-140.\n",
    "- ‘pertamax’: nilai naik pada rentang 0-70, puncaknya ada di sekitar 70, dan turun pada rentang 70-140.\n",
    "- ‘pertamina dex’: nilai rendah pada rentang 70-140, nilainya naik pada rentang 70-140 dan tetap tinggi\n",
    "pada 140.\n",
    "```"
   ]
  },
  {
   "cell_type": "markdown",
   "metadata": {},
   "source": [
    "4. Buatkan aturan fuzzy"
   ]
  },
  {
   "cell_type": "markdown",
   "metadata": {},
   "source": [
    "```\n",
    "a. Jarak jauh, jika bensin yang digunakan berjenis Pertamina Dex\n",
    "b. Jarak sedang, jika bensin yang digunakan berjenis Pertamax\n",
    "c. Jarak dekat, jika bensin yang digunakan berjenis Pertalite\n",
    "```"
   ]
  },
  {
   "cell_type": "markdown",
   "metadata": {},
   "source": [
    "5. Implementasikan sistem fuzzy tersebut dengan skfuzzy dan jalankan inferensi."
   ]
  },
  {
   "cell_type": "code",
   "execution_count": null,
   "metadata": {},
   "outputs": [],
   "source": [
    "import numpy as np, skfuzzy as fuzz\n",
    "from skfuzzy import control as ctrl\n",
    "\n",
    "bensin = ctrl.Antecedent(np.arange(0,141,1), 'bensin')\n",
    "jarak = ctrl.Consequent(np.arange(0,141,1), 'jarak')\n",
    "\n",
    "bensin['pertalite'] = fuzz.trimf(bensin.universe,[0,0,70])\n",
    "bensin['pertamax'] = fuzz.trimf(bensin.universe,[0,70,140])\n",
    "bensin['pertamina dex'] = fuzz.trimf(bensin.universe,[0,140,140])\n",
    "\n",
    "jarak['dekat'] = fuzz.trimf(jarak.universe,[0,0,70])\n",
    "jarak['sedang'] = fuzz.trimf(jarak.universe,[0,70,140])\n",
    "jarak['jauh'] = fuzz.trimf(jarak.universe,[0,140,140])\n",
    "\n",
    "rule1 = ctrl.Rule(bensin['pertalite'], jarak['jauh'])\n",
    "rule2 = ctrl.Rule(bensin['pertamax'], jarak['sedang'])\n",
    "\n",
    "rule3 = ctrl.Rule(bensin['pertamina dex'], jarak['dekat'])\n",
    "\n",
    "system = ctrl.ControlSystem([rule1, rule2, rule3])\n",
    "jarak_ctrl = ctrl.ControlSystemSimulation(system)\n",
    "\n",
    "jarak_ctrl.input['bensin'] = 50\n",
    "jarak_ctrl.compute()\n",
    "\n",
    "print(\"Kecepatan Kipas:\", jarak_ctrl.output['jarak'])\n",
    "jarak.view(sim=jarak_ctrl)"
   ]
  },
  {
   "cell_type": "markdown",
   "metadata": {},
   "source": [
    "6. Tampilkan grafik fungsi keanggotaan input-output"
   ]
  }
 ],
 "metadata": {
  "language_info": {
   "name": "python"
  }
 },
 "nbformat": 4,
 "nbformat_minor": 2
}
